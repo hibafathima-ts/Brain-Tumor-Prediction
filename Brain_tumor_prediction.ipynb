{
  "cells": [
    {
      "cell_type": "markdown",
      "metadata": {
        "id": "view-in-github",
        "colab_type": "text"
      },
      "source": [
        "<a href=\"https://colab.research.google.com/github/hibafathima-ts/Brain-Tumor-Prediction/blob/main/Brain_tumor_prediction.ipynb\" target=\"_parent\"><img src=\"https://colab.research.google.com/assets/colab-badge.svg\" alt=\"Open In Colab\"/></a>"
      ]
    },
    {
      "cell_type": "code",
      "execution_count": 1,
      "metadata": {
        "colab": {
          "base_uri": "https://localhost:8080/"
        },
        "id": "nJKHLbqACM4V",
        "outputId": "29b592d4-c963-41f7-a6a7-c5505ad6d4e9"
      },
      "outputs": [
        {
          "output_type": "stream",
          "name": "stdout",
          "text": [
            "Requirement already satisfied: opencv-python in /usr/local/lib/python3.11/dist-packages (4.11.0.86)\n",
            "Requirement already satisfied: numpy>=1.21.2 in /usr/local/lib/python3.11/dist-packages (from opencv-python) (2.0.2)\n"
          ]
        }
      ],
      "source": [
        "!pip install opencv-python"
      ]
    },
    {
      "cell_type": "code",
      "execution_count": 2,
      "metadata": {
        "id": "5UnkGRarCUqh"
      },
      "outputs": [],
      "source": [
        "# Install necessary packages if needed\n",
        "# !pip install opencv-python tensorflow\n",
        "\n",
        "import numpy as np\n",
        "import pandas as pd\n",
        "import os\n",
        "import cv2\n",
        "import h5py\n",
        "import matplotlib.pyplot as plt\n",
        "from sklearn.model_selection import train_test_split\n",
        "from sklearn.preprocessing import LabelEncoder\n",
        "from sklearn.decomposition import PCA\n",
        "from sklearn.ensemble import RandomForestClassifier\n",
        "from sklearn.metrics import classification_report, accuracy_score\n",
        "\n",
        "from tensorflow.keras.utils import to_categorical\n",
        "from tensorflow.keras.models import Sequential\n",
        "from tensorflow.keras.layers import Conv2D, MaxPooling2D, Flatten, Dense, Dropout, Input\n",
        "from tensorflow.keras.applications.vgg16 import VGG16, preprocess_input\n",
        "from tensorflow.keras.callbacks import EarlyStopping\n",
        "from tensorflow.keras.optimizers import Adam\n",
        "from tensorflow.keras.models import Model\n",
        "\n",
        "from scipy.io import loadmat"
      ]
    },
    {
      "cell_type": "code",
      "execution_count": 3,
      "metadata": {
        "id": "H7f3Dq3yCUyP"
      },
      "outputs": [],
      "source": [
        "import warnings\n",
        "warnings.filterwarnings(\"ignore\")"
      ]
    },
    {
      "cell_type": "code",
      "execution_count": 7,
      "metadata": {
        "colab": {
          "base_uri": "https://localhost:8080/"
        },
        "id": "PS4L6JfsCVAy",
        "outputId": "588c05ec-b527-4bf3-b0e5-1549fb76674e"
      },
      "outputs": [
        {
          "output_type": "stream",
          "name": "stdout",
          "text": [
            "Mounted at /content/drive\n"
          ]
        }
      ],
      "source": [
        "from google.colab import drive\n",
        "drive.mount('/content/drive')"
      ]
    },
    {
      "cell_type": "code",
      "execution_count": 8,
      "metadata": {
        "id": "PtFMS8_FCVG3",
        "colab": {
          "base_uri": "https://localhost:8080/"
        },
        "outputId": "e22b3b69-1754-4e21-d94e-d2f8f5eea7a6"
      },
      "outputs": [
        {
          "output_type": "stream",
          "name": "stdout",
          "text": [
            "Total images loaded: 3084\n",
            "Label distribution:\n",
            "glioma        1435\n",
            "pituitary      939\n",
            "meningioma     710\n",
            "Name: count, dtype: int64\n"
          ]
        }
      ],
      "source": [
        "data_dir = '/content/drive/My Drive/Brain tumor dataset/dataset/data'\n",
        "data = []\n",
        "labels = []\n",
        "img_size = 128  # Reduce from 224 to 128 to lower memory use\n",
        "\n",
        "label_map = {1: 'meningioma', 2: 'glioma', 3: 'pituitary'}\n",
        "\n",
        "for file in os.listdir(data_dir):\n",
        "    if file.endswith('.mat'):\n",
        "        file_path = os.path.join(data_dir, file)\n",
        "\n",
        "        try:\n",
        "            # Load with scipy\n",
        "            mat = loadmat(file_path)\n",
        "            cjdata = mat.get('cjdata', None)\n",
        "            if cjdata is None:\n",
        "                raise ValueError(\"cjdata key not found\")\n",
        "\n",
        "            img = cjdata['image'][0, 0]\n",
        "            label = int(cjdata['label'][0, 0])\n",
        "\n",
        "        except:\n",
        "            try:\n",
        "                # Fallback to h5py\n",
        "                with h5py.File(file_path, 'r') as mat:\n",
        "                    cjdata = mat['cjdata']\n",
        "                    img = np.array(cjdata['image']).T\n",
        "                    label = int(np.array(cjdata['label'])[0][0])\n",
        "            except Exception as e:\n",
        "                print(f\"Failed to load {file}: {e}\")\n",
        "                continue\n",
        "\n",
        "        try:\n",
        "            # Clip, resize, convert to RGB and float32\n",
        "            img = np.uint8(np.clip(img, 0, 255))\n",
        "            img_resized = cv2.resize(img, (img_size, img_size))\n",
        "            img_rgb = cv2.cvtColor(img_resized, cv2.COLOR_GRAY2RGB)\n",
        "            img_rgb = img_rgb.astype('float32') / 255.0  # Normalize early\n",
        "\n",
        "            data.append(img_rgb)\n",
        "            labels.append(label)\n",
        "        except Exception as e:\n",
        "            print(f\"Failed preprocessing {file}: {e}\")\n",
        "            continue\n",
        "\n",
        "# Convert to NumPy arrays\n",
        "X = np.array(data, dtype='float32')  # Already normalized\n",
        "y = np.array(labels)\n",
        "\n",
        "print(f\"Total images loaded: {len(X)}\")\n",
        "print(f\"Label distribution:\\n{pd.Series(y).map(label_map).value_counts()}\")\n",
        "\n",
        "# Encode labels\n",
        "le = LabelEncoder()\n",
        "y_encoded = le.fit_transform(y)\n",
        "y_categorical = to_categorical(y_encoded)\n",
        "\n",
        "# Train-test split\n",
        "X_train, X_test, y_train, y_test = train_test_split(\n",
        "    X, y_categorical, test_size=0.2, random_state=42, stratify=y_categorical\n",
        ")\n"
      ]
    },
    {
      "cell_type": "code",
      "execution_count": 9,
      "metadata": {
        "colab": {
          "base_uri": "https://localhost:8080/"
        },
        "id": "K13ZbkCFKh50",
        "outputId": "d65e556c-befe-4156-8db2-34f169c2d5cf"
      },
      "outputs": [
        {
          "output_type": "stream",
          "name": "stdout",
          "text": [
            "\n",
            "Training Custom CNN...\n",
            "Epoch 1/10\n",
            "\u001b[1m62/62\u001b[0m \u001b[32m━━━━━━━━━━━━━━━━━━━━\u001b[0m\u001b[37m\u001b[0m \u001b[1m57s\u001b[0m 883ms/step - accuracy: 0.5833 - loss: 2.1571 - val_accuracy: 0.8623 - val_loss: 0.3695\n",
            "Epoch 2/10\n",
            "\u001b[1m62/62\u001b[0m \u001b[32m━━━━━━━━━━━━━━━━━━━━\u001b[0m\u001b[37m\u001b[0m \u001b[1m80s\u001b[0m 856ms/step - accuracy: 0.8951 - loss: 0.2812 - val_accuracy: 0.8826 - val_loss: 0.3141\n",
            "Epoch 3/10\n",
            "\u001b[1m62/62\u001b[0m \u001b[32m━━━━━━━━━━━━━━━━━━━━\u001b[0m\u001b[37m\u001b[0m \u001b[1m53s\u001b[0m 857ms/step - accuracy: 0.9258 - loss: 0.2083 - val_accuracy: 0.8866 - val_loss: 0.3115\n",
            "Epoch 4/10\n",
            "\u001b[1m62/62\u001b[0m \u001b[32m━━━━━━━━━━━━━━━━━━━━\u001b[0m\u001b[37m\u001b[0m \u001b[1m82s\u001b[0m 858ms/step - accuracy: 0.9493 - loss: 0.1336 - val_accuracy: 0.8968 - val_loss: 0.3078\n",
            "Epoch 5/10\n",
            "\u001b[1m62/62\u001b[0m \u001b[32m━━━━━━━━━━━━━━━━━━━━\u001b[0m\u001b[37m\u001b[0m \u001b[1m52s\u001b[0m 845ms/step - accuracy: 0.9510 - loss: 0.1264 - val_accuracy: 0.9069 - val_loss: 0.2411\n",
            "Epoch 6/10\n",
            "\u001b[1m62/62\u001b[0m \u001b[32m━━━━━━━━━━━━━━━━━━━━\u001b[0m\u001b[37m\u001b[0m \u001b[1m83s\u001b[0m 863ms/step - accuracy: 0.9709 - loss: 0.0888 - val_accuracy: 0.9251 - val_loss: 0.2188\n",
            "Epoch 7/10\n",
            "\u001b[1m62/62\u001b[0m \u001b[32m━━━━━━━━━━━━━━━━━━━━\u001b[0m\u001b[37m\u001b[0m \u001b[1m83s\u001b[0m 874ms/step - accuracy: 0.9746 - loss: 0.0743 - val_accuracy: 0.9150 - val_loss: 0.2207\n",
            "Epoch 8/10\n",
            "\u001b[1m62/62\u001b[0m \u001b[32m━━━━━━━━━━━━━━━━━━━━\u001b[0m\u001b[37m\u001b[0m \u001b[1m82s\u001b[0m 876ms/step - accuracy: 0.9847 - loss: 0.0458 - val_accuracy: 0.9251 - val_loss: 0.2482\n",
            "Epoch 9/10\n",
            "\u001b[1m62/62\u001b[0m \u001b[32m━━━━━━━━━━━━━━━━━━━━\u001b[0m\u001b[37m\u001b[0m \u001b[1m82s\u001b[0m 892ms/step - accuracy: 0.9832 - loss: 0.0469 - val_accuracy: 0.9170 - val_loss: 0.2275\n",
            "Epoch 1/10\n",
            "\u001b[1m62/62\u001b[0m \u001b[32m━━━━━━━━━━━━━━━━━━━━\u001b[0m\u001b[37m\u001b[0m \u001b[1m53s\u001b[0m 846ms/step - accuracy: 0.9697 - loss: 0.0779 - val_accuracy: 0.9109 - val_loss: 0.2401\n",
            "Epoch 2/10\n",
            "\u001b[1m62/62\u001b[0m \u001b[32m━━━━━━━━━━━━━━━━━━━━\u001b[0m\u001b[37m\u001b[0m \u001b[1m83s\u001b[0m 867ms/step - accuracy: 0.9678 - loss: 0.0673 - val_accuracy: 0.9130 - val_loss: 0.3279\n",
            "Epoch 3/10\n",
            "\u001b[1m62/62\u001b[0m \u001b[32m━━━━━━━━━━━━━━━━━━━━\u001b[0m\u001b[37m\u001b[0m \u001b[1m81s\u001b[0m 865ms/step - accuracy: 0.9739 - loss: 0.0650 - val_accuracy: 0.9231 - val_loss: 0.2410\n",
            "Epoch 4/10\n",
            "\u001b[1m62/62\u001b[0m \u001b[32m━━━━━━━━━━━━━━━━━━━━\u001b[0m\u001b[37m\u001b[0m \u001b[1m81s\u001b[0m 836ms/step - accuracy: 0.9824 - loss: 0.0461 - val_accuracy: 0.9150 - val_loss: 0.2489\n",
            "\n",
            "Training Completed..\n"
          ]
        }
      ],
      "source": [
        "def build_custom_cnn():\n",
        "    model = Sequential()\n",
        "    model.add(Conv2D(32, (3,3), activation='relu', input_shape=(128,128,3)))\n",
        "    model.add(MaxPooling2D(2,2))\n",
        "    model.add(Conv2D(64, (3,3), activation='relu'))\n",
        "    model.add(MaxPooling2D(2,2))\n",
        "    model.add(Flatten())\n",
        "    model.add(Dense(128, activation='relu'))\n",
        "    model.add(Dropout(0.5))\n",
        "    model.add(Dense(3, activation='softmax'))\n",
        "    model.compile(optimizer='adam', loss='categorical_crossentropy', metrics=['accuracy'])\n",
        "    return model\n",
        "\n",
        "cnn_model = build_custom_cnn()\n",
        "early_stop = EarlyStopping(monitor='val_loss', patience=3, restore_best_weights=True)\n",
        "\n",
        "print(\"\\nTraining Custom CNN...\")\n",
        "cnn_model.fit(X_train, y_train, validation_split=0.2, epochs=10, batch_size=32, callbacks=[early_stop])\n",
        "\n",
        "history_cnn = cnn_model.fit(\n",
        "    X_train, y_train,\n",
        "    validation_split=0.2,\n",
        "    epochs=10, batch_size=32,\n",
        "    callbacks=[early_stop],\n",
        "    verbose=1   # Ensures output is printed\n",
        ")\n",
        "\n",
        "print(\"\\nTraining Completed..\")"
      ]
    },
    {
      "cell_type": "code",
      "source": [
        "cnn_model.save(\"best_cnn_model.h5\")"
      ],
      "metadata": {
        "id": "nMj9-XLJfMJF",
        "colab": {
          "base_uri": "https://localhost:8080/"
        },
        "outputId": "0ab27b27-9250-414e-d304-0ef0a63d937c"
      },
      "execution_count": 10,
      "outputs": [
        {
          "output_type": "stream",
          "name": "stderr",
          "text": [
            "WARNING:absl:You are saving your model as an HDF5 file via `model.save()` or `keras.saving.save_model(model)`. This file format is considered legacy. We recommend using instead the native Keras format, e.g. `model.save('my_model.keras')` or `keras.saving.save_model(model, 'my_model.keras')`. \n"
          ]
        }
      ]
    },
    {
      "cell_type": "markdown",
      "source": [],
      "metadata": {
        "id": "hbN3DwuulcFY"
      }
    },
    {
      "cell_type": "code",
      "source": [
        "!cp best_cnn_model.h5 /content/drive/MyDrive/Brain\\ tumor\\ prediction/"
      ],
      "metadata": {
        "id": "I7mD0jfXfPBr"
      },
      "execution_count": 11,
      "outputs": []
    },
    {
      "cell_type": "code",
      "execution_count": 12,
      "metadata": {
        "id": "GIxP_U5uKh8I",
        "colab": {
          "base_uri": "https://localhost:8080/",
          "height": 472
        },
        "outputId": "35704d11-29bd-44c6-8471-5bf00201481c"
      },
      "outputs": [
        {
          "output_type": "display_data",
          "data": {
            "text/plain": [
              "<Figure size 640x480 with 1 Axes>"
            ],
            "image/png": "[encoded data removed]"
          },
          "metadata": {}
        }
      ],
      "source": [
        "import matplotlib.pyplot as plt\n",
        "\n",
        "# Plot training & validation accuracy\n",
        "plt.plot(history_cnn.history['accuracy'], label='Train Acc')\n",
        "plt.plot(history_cnn.history['val_accuracy'], label='Val Acc')\n",
        "plt.title('CNN Accuracy')\n",
        "plt.xlabel('Epoch')\n",
        "plt.ylabel('Accuracy')\n",
        "plt.legend()\n",
        "plt.show()"
      ]
    },
    {
      "cell_type": "code",
      "execution_count": 13,
      "metadata": {
        "id": "vPM0Sq7cKh-2",
        "colab": {
          "base_uri": "https://localhost:8080/"
        },
        "outputId": "e6cd7901-7322-4f38-f8f5-0ce35a663481"
      },
      "outputs": [
        {
          "output_type": "stream",
          "name": "stdout",
          "text": [
            "\n",
            "Training VGG16 Transfer Learning Model...\n",
            "Epoch 1/10\n",
            "\u001b[1m62/62\u001b[0m \u001b[32m━━━━━━━━━━━━━━━━━━━━\u001b[0m\u001b[37m\u001b[0m \u001b[1m543s\u001b[0m 9s/step - accuracy: 0.5771 - loss: 0.9937 - val_accuracy: 0.7794 - val_loss: 0.5020\n",
            "Epoch 2/10\n",
            "\u001b[1m62/62\u001b[0m \u001b[32m━━━━━━━━━━━━━━━━━━━━\u001b[0m\u001b[37m\u001b[0m \u001b[1m563s\u001b[0m 9s/step - accuracy: 0.7854 - loss: 0.4959 - val_accuracy: 0.8097 - val_loss: 0.4466\n",
            "Epoch 3/10\n",
            "\u001b[1m62/62\u001b[0m \u001b[32m━━━━━━━━━━━━━━━━━━━━\u001b[0m\u001b[37m\u001b[0m \u001b[1m493s\u001b[0m 8s/step - accuracy: 0.8099 - loss: 0.4368 - val_accuracy: 0.8603 - val_loss: 0.4212\n",
            "Epoch 4/10\n",
            "\u001b[1m62/62\u001b[0m \u001b[32m━━━━━━━━━━━━━━━━━━━━\u001b[0m\u001b[37m\u001b[0m \u001b[1m490s\u001b[0m 8s/step - accuracy: 0.8449 - loss: 0.3649 - val_accuracy: 0.8320 - val_loss: 0.3704\n",
            "Epoch 5/10\n",
            "\u001b[1m62/62\u001b[0m \u001b[32m━━━━━━━━━━━━━━━━━━━━\u001b[0m\u001b[37m\u001b[0m \u001b[1m542s\u001b[0m 9s/step - accuracy: 0.8540 - loss: 0.3172 - val_accuracy: 0.8745 - val_loss: 0.3152\n",
            "Epoch 6/10\n",
            "\u001b[1m62/62\u001b[0m \u001b[32m━━━━━━━━━━━━━━━━━━━━\u001b[0m\u001b[37m\u001b[0m \u001b[1m516s\u001b[0m 8s/step - accuracy: 0.8568 - loss: 0.3129 - val_accuracy: 0.8684 - val_loss: 0.3365\n",
            "Epoch 7/10\n",
            "\u001b[1m62/62\u001b[0m \u001b[32m━━━━━━━━━━━━━━━━━━━━\u001b[0m\u001b[37m\u001b[0m \u001b[1m547s\u001b[0m 9s/step - accuracy: 0.8744 - loss: 0.2614 - val_accuracy: 0.8806 - val_loss: 0.2864\n",
            "Epoch 8/10\n",
            "\u001b[1m62/62\u001b[0m \u001b[32m━━━━━━━━━━━━━━━━━━━━\u001b[0m\u001b[37m\u001b[0m \u001b[1m516s\u001b[0m 8s/step - accuracy: 0.9071 - loss: 0.2370 - val_accuracy: 0.8826 - val_loss: 0.2901\n",
            "Epoch 9/10\n",
            "\u001b[1m62/62\u001b[0m \u001b[32m━━━━━━━━━━━━━━━━━━━━\u001b[0m\u001b[37m\u001b[0m \u001b[1m548s\u001b[0m 9s/step - accuracy: 0.8980 - loss: 0.2331 - val_accuracy: 0.8664 - val_loss: 0.2938\n",
            "Epoch 10/10\n",
            "\u001b[1m62/62\u001b[0m \u001b[32m━━━━━━━━━━━━━━━━━━━━\u001b[0m\u001b[37m\u001b[0m \u001b[1m563s\u001b[0m 9s/step - accuracy: 0.9160 - loss: 0.2114 - val_accuracy: 0.8907 - val_loss: 0.2803\n"
          ]
        },
        {
          "output_type": "execute_result",
          "data": {
            "text/plain": [
              "<keras.src.callbacks.history.History at 0x7972ecd2e190>"
            ]
          },
          "metadata": {},
          "execution_count": 13
        }
      ],
      "source": [
        "base_model = VGG16(include_top=False, weights='imagenet', input_shape=(128,128,3))\n",
        "for layer in base_model.layers:\n",
        "    layer.trainable = False\n",
        "\n",
        "x = Flatten()(base_model.output)\n",
        "x = Dense(128, activation='relu')(x)\n",
        "x = Dropout(0.5)(x)\n",
        "output = Dense(3, activation='softmax')(x)\n",
        "\n",
        "vgg_model = Model(inputs=base_model.input, outputs=output)\n",
        "vgg_model.compile(optimizer=Adam(), loss='categorical_crossentropy', metrics=['accuracy'])\n",
        "\n",
        "print(\"\\nTraining VGG16 Transfer Learning Model...\")\n",
        "vgg_model.fit(X_train, y_train, validation_split=0.2, epochs=10, batch_size=32, callbacks=[early_stop])\n"
      ]
    },
    {
      "cell_type": "code",
      "source": [
        "vgg_model.save(\"best_vgg_model.h5\")  # Save to local .h5 file\n",
        "!cp best_vgg_model.h5 /content/drive/MyDrive/Brain\\ tumor\\ prediction/"
      ],
      "metadata": {
        "colab": {
          "base_uri": "https://localhost:8080/"
        },
        "id": "r7p9JTlwl0yg",
        "outputId": "3f94383d-e535-4b3f-9835-29d696199ed4"
      },
      "execution_count": 14,
      "outputs": [
        {
          "output_type": "stream",
          "name": "stderr",
          "text": [
            "WARNING:absl:You are saving your model as an HDF5 file via `model.save()` or `keras.saving.save_model(model)`. This file format is considered legacy. We recommend using instead the native Keras format, e.g. `model.save('my_model.keras')` or `keras.saving.save_model(model, 'my_model.keras')`. \n"
          ]
        }
      ]
    },
    {
      "cell_type": "code",
      "execution_count": 15,
      "metadata": {
        "id": "XaTu94RmKiCO",
        "colab": {
          "base_uri": "https://localhost:8080/"
        },
        "outputId": "aea75b57-1304-4da0-99a6-1c55aa9bf073"
      },
      "outputs": [
        {
          "output_type": "stream",
          "name": "stdout",
          "text": [
            "\n",
            "Applying PCA for Random Forest...\n",
            "\n",
            "--- Random Forest with PCA Evaluation ---\n",
            "              precision    recall  f1-score   support\n",
            "\n",
            "           1       0.97      0.68      0.80       142\n",
            "           2       0.87      0.98      0.92       287\n",
            "           3       0.94      0.98      0.96       188\n",
            "\n",
            "    accuracy                           0.91       617\n",
            "   macro avg       0.93      0.88      0.90       617\n",
            "weighted avg       0.92      0.91      0.91       617\n",
            "\n",
            "Random Forest (PCA) Accuracy: 0.9109\n"
          ]
        }
      ],
      "source": [
        "print(\"\\nApplying PCA for Random Forest...\")\n",
        "X_flat = X.reshape(X.shape[0], -1)\n",
        "pca = PCA(n_components=150)\n",
        "X_pca = pca.fit_transform(X_flat)\n",
        "\n",
        "X_train_pca, X_test_pca, y_train_rf, y_test_rf = train_test_split(\n",
        "    X_pca, y_encoded, test_size=0.2, random_state=42, stratify=y_encoded\n",
        ")\n",
        "\n",
        "rf_model = RandomForestClassifier(n_estimators=100, random_state=42)\n",
        "rf_model.fit(X_train_pca, y_train_rf)\n",
        "\n",
        "# Evaluation\n",
        "rf_preds = rf_model.predict(X_test_pca)\n",
        "\n",
        "print(\"\\n--- Random Forest with PCA Evaluation ---\")\n",
        "print(classification_report(y_test_rf, rf_preds, target_names=[str(cls) for cls in le.classes_]))\n",
        "\n",
        "rf_acc = accuracy_score(y_test_rf, rf_preds)\n",
        "print(f\"Random Forest (PCA) Accuracy: {rf_acc:.4f}\")"
      ]
    },
    {
      "cell_type": "code",
      "source": [
        "import joblib\n",
        "\n",
        "# Save the trained RF model\n",
        "joblib.dump(rf_model, \"best_rf_model.pkl\")\n",
        "\n",
        "# Save the PCA transformer\n",
        "joblib.dump(pca, \"pca_model.pkl\")\n",
        "\n",
        "# Copy both to Google Drive\n",
        "!cp best_rf_model.pkl /content/drive/MyDrive/Brain\\ tumor\\ prediction/\n",
        "!cp pca_model.pkl /content/drive/MyDrive/Brain\\ tumor\\ prediction/\n"
      ],
      "metadata": {
        "id": "azBtFFRbmlIV"
      },
      "execution_count": 16,
      "outputs": []
    },
    {
      "cell_type": "code",
      "execution_count": 17,
      "metadata": {
        "id": "1IKhMtxNCVK0",
        "colab": {
          "base_uri": "https://localhost:8080/",
          "height": 1000
        },
        "outputId": "e3868d74-45d7-4328-9391-0dc0ff6d89d9"
      },
      "outputs": [
        {
          "output_type": "stream",
          "name": "stdout",
          "text": [
            "\n",
            "--- CNN Evaluation ---\n",
            "\u001b[1m20/20\u001b[0m \u001b[32m━━━━━━━━━━━━━━━━━━━━\u001b[0m\u001b[37m\u001b[0m \u001b[1m11s\u001b[0m 531ms/step\n",
            "              precision    recall  f1-score   support\n",
            "\n",
            "           1       0.84      0.79      0.81       142\n",
            "           2       0.90      0.92      0.91       287\n",
            "           3       0.98      0.99      0.99       188\n",
            "\n",
            "    accuracy                           0.91       617\n",
            "   macro avg       0.91      0.90      0.91       617\n",
            "weighted avg       0.91      0.91      0.91       617\n",
            "\n"
          ]
        },
        {
          "output_type": "display_data",
          "data": {
            "text/plain": [
              "<Figure size 640x480 with 2 Axes>"
            ],
            "image/png": "[encoded data removed]"
          },
          "metadata": {}
        },
        {
          "output_type": "stream",
          "name": "stdout",
          "text": [
            "\n",
            "--- VGG16 Evaluation ---\n",
            "\u001b[1m20/20\u001b[0m \u001b[32m━━━━━━━━━━━━━━━━━━━━\u001b[0m\u001b[37m\u001b[0m \u001b[1m132s\u001b[0m 6s/step\n",
            "              precision    recall  f1-score   support\n",
            "\n",
            "           1       0.85      0.75      0.80       142\n",
            "           2       0.90      0.93      0.91       287\n",
            "           3       0.95      0.99      0.97       188\n",
            "\n",
            "    accuracy                           0.90       617\n",
            "   macro avg       0.90      0.89      0.89       617\n",
            "weighted avg       0.90      0.90      0.90       617\n",
            "\n"
          ]
        },
        {
          "output_type": "display_data",
          "data": {
            "text/plain": [
              "<Figure size 640x480 with 2 Axes>"
            ],
            "image/png": "[encoded data removed]"
          },
          "metadata": {}
        },
        {
          "output_type": "stream",
          "name": "stdout",
          "text": [
            "\n",
            "--- Random Forest with PCA Evaluation ---\n",
            "              precision    recall  f1-score   support\n",
            "\n",
            "           1       0.97      0.68      0.80       142\n",
            "           2       0.87      0.98      0.92       287\n",
            "           3       0.94      0.98      0.96       188\n",
            "\n",
            "    accuracy                           0.91       617\n",
            "   macro avg       0.93      0.88      0.90       617\n",
            "weighted avg       0.92      0.91      0.91       617\n",
            "\n"
          ]
        },
        {
          "output_type": "display_data",
          "data": {
            "text/plain": [
              "<Figure size 640x480 with 2 Axes>"
            ],
            "image/png": "[encoded data removed]"
          },
          "metadata": {}
        }
      ],
      "source": [
        "from sklearn.metrics import confusion_matrix, classification_report, accuracy_score\n",
        "import seaborn as sns\n",
        "import matplotlib.pyplot as plt\n",
        "\n",
        "def plot_confusion(y_true, y_pred, title):\n",
        "    cm = confusion_matrix(y_true, y_pred)\n",
        "    class_labels = [str(cls) for cls in le.classes_]  # Ensure string labels\n",
        "    sns.heatmap(cm, annot=True, fmt='d', cmap='Blues',\n",
        "                xticklabels=class_labels, yticklabels=class_labels)\n",
        "    plt.title(title)\n",
        "    plt.xlabel(\"Predicted\")\n",
        "    plt.ylabel(\"Actual\")\n",
        "    plt.show()\n",
        "# ------------------- CNN Evaluation -------------------\n",
        "print(\"\\n--- CNN Evaluation ---\")\n",
        "cnn_preds = cnn_model.predict(X_test)\n",
        "cnn_pred_labels = np.argmax(cnn_preds, axis=1)\n",
        "true_labels = np.argmax(y_test, axis=1)\n",
        "\n",
        "print(classification_report(true_labels, cnn_pred_labels, target_names=[str(cls) for cls in le.classes_]))\n",
        "plot_confusion(true_labels, cnn_pred_labels, \"CNN Confusion Matrix\")\n",
        "\n",
        "# ------------------- VGG16 Evaluation -------------------\n",
        "print(\"\\n--- VGG16 Evaluation ---\")\n",
        "vgg_preds = vgg_model.predict(X_test)\n",
        "vgg_pred_labels = np.argmax(vgg_preds, axis=1)\n",
        "\n",
        "print(classification_report(true_labels, vgg_pred_labels, target_names=[str(cls) for cls in le.classes_]))\n",
        "plot_confusion(true_labels, vgg_pred_labels, \"VGG16 Confusion Matrix\")\n",
        "\n",
        "# ------------------- Random Forest Evaluation -------------------\n",
        "print(\"\\n--- Random Forest with PCA Evaluation ---\")\n",
        "rf_preds = rf_model.predict(X_test_pca)\n",
        "\n",
        "print(classification_report(y_test_rf, rf_preds, target_names=[str(cls) for cls in le.classes_]))\n",
        "plot_confusion(y_test_rf, rf_preds, \"Random Forest Confusion Matrix\")\n"
      ]
    },
    {
      "cell_type": "code",
      "execution_count": 18,
      "metadata": {
        "id": "u7Ce8w_rL3YC",
        "colab": {
          "base_uri": "https://localhost:8080/"
        },
        "outputId": "10ddb68d-9017-4ed4-c49e-bd596ce9775b"
      },
      "outputs": [
        {
          "output_type": "stream",
          "name": "stderr",
          "text": [
            "WARNING:absl:You are saving your model as an HDF5 file via `model.save()` or `keras.saving.save_model(model)`. This file format is considered legacy. We recommend using instead the native Keras format, e.g. `model.save('my_model.keras')` or `keras.saving.save_model(model, 'my_model.keras')`. \n"
          ]
        },
        {
          "output_type": "stream",
          "name": "stdout",
          "text": [
            "\n",
            "Model Accuracies:\n",
            "CNN Accuracy: 0.9141\n",
            "VGG16 Accuracy: 0.9044\n",
            "Random Forest (PCA) Accuracy: 0.9109\n",
            "\n",
            "Best Model: CNN with accuracy 0.9141\n"
          ]
        }
      ],
      "source": [
        "cnn_acc = accuracy_score(true_labels, cnn_pred_labels)\n",
        "vgg_acc = accuracy_score(true_labels, vgg_pred_labels)\n",
        "rf_acc = accuracy_score(y_test_rf, rf_preds)\n",
        "\n",
        "print(\"\\nModel Accuracies:\")\n",
        "print(f\"CNN Accuracy: {cnn_acc:.4f}\")\n",
        "print(f\"VGG16 Accuracy: {vgg_acc:.4f}\")\n",
        "print(f\"Random Forest (PCA) Accuracy: {rf_acc:.4f}\")\n",
        "\n",
        "best_model_name, best_acc = max(\n",
        "    (('CNN', cnn_acc), ('VGG16', vgg_acc), ('RandomForest', rf_acc)), key=lambda x: x[1]\n",
        ")\n",
        "print(f\"\\nBest Model: {best_model_name} with accuracy {best_acc:.4f}\")\n",
        "\n",
        "# Save best model\n",
        "if best_model_name == \"CNN\":\n",
        "    cnn_model.save(\"best_cnn_model.h5\")\n",
        "elif best_model_name == \"VGG16\":\n",
        "    vgg_model.save(\"best_vgg_model.h5\")\n",
        "else:\n",
        "    joblib.dump(rf_model, \"best_rf_model.pkl\")\n"
      ]
    },
    {
      "cell_type": "markdown",
      "source": [
        "------------------------------------------------------------------------------------------------------------------------------------------------------------------------------------------------------------------------------------------------------------------------------------------------\n"
      ],
      "metadata": {
        "id": "hr9nA36ZUkwF"
      }
    },
    {
      "cell_type": "code",
      "source": [
        "# STEP 1: Install and import necessary libraries\n",
        "import numpy as np\n",
        "import cv2\n",
        "import joblib\n",
        "from tensorflow.keras.models import load_model\n",
        "from tensorflow.keras.applications.vgg16 import preprocess_input as vgg16_preprocess\n",
        "from tensorflow.keras.preprocessing.image import img_to_array\n",
        "from google.colab import files\n",
        "from PIL import Image\n",
        "import io\n",
        "\n",
        "# STEP 2: Load trained models and label map\n",
        "cnn_model = load_model('best_cnn_model.h5')\n",
        "vgg16_model = load_model('best_vgg_model.h5')\n",
        "rf_model = joblib.load('best_rf_model.pkl')\n",
        "pca = joblib.load('pca_model.pkl')\n",
        "\n",
        "label_map = {0: 'glioma', 1: 'meningioma', 2: 'pituitary'}\n",
        "\n",
        "# STEP 3: Upload image\n",
        "uploaded = files.upload()\n",
        "image_path = list(uploaded.keys())[0]\n",
        "img = Image.open(image_path).convert('RGB')  # Loaded only once\n",
        "\n",
        "# STEP 4: Preprocessing functions\n",
        "def preprocess_for_cnn(image):\n",
        "    image = np.array(image)\n",
        "    image = cv2.resize(image, (128, 128))\n",
        "    image = image.astype(\"float32\") / 255.0\n",
        "    image = np.expand_dims(image, axis=0)\n",
        "    return image\n",
        "\n",
        "def preprocess_for_vgg16(image):\n",
        "    image = image.resize((128, 128))\n",
        "    image = img_to_array(image)\n",
        "    image = vgg16_preprocess(image)\n",
        "    return np.expand_dims(image, axis=0)\n",
        "\n",
        "def preprocess_for_rf(image):\n",
        "    image = image.resize((128, 128))\n",
        "    image = img_to_array(image) / 255.0\n",
        "    image = image.reshape(1, -1)\n",
        "    return pca.transform(image)\n",
        "\n",
        "# STEP 5: Make predictions\n",
        "cnn_input = preprocess_for_cnn(img)\n",
        "vgg_input = preprocess_for_vgg16(img)\n",
        "rf_input = preprocess_for_rf(img)\n",
        "\n",
        "cnn_probs = cnn_model.predict(cnn_input)[0]\n",
        "cnn_pred = np.argmax(cnn_probs)\n",
        "\n",
        "vgg_probs = vgg16_model.predict(vgg_input)[0]\n",
        "vgg_pred = np.argmax(vgg_probs)\n",
        "\n",
        "rf_pred = rf_model.predict(rf_input)[0]\n",
        "rf_probs = rf_model.predict_proba(rf_input)[0]\n",
        "\n",
        "# STEP 6: Display results\n",
        "print(\"\\n--- Model Predictions ---\")\n",
        "print(f\"CNN Prediction       : {label_map[cnn_pred]} (Confidence: {cnn_probs[cnn_pred]:.2f})\")\n",
        "print(f\"VGG16 Prediction     : {label_map[vgg_pred]} (Confidence: {vgg_probs[vgg_pred]:.2f})\")\n",
        "print(f\"Random Forest (PCA)  : {label_map[rf_pred]} (Confidence: {rf_probs[rf_pred]:.2f})\")\n",
        "\n",
        "# STEP 7: Combine predictions using majority voting\n",
        "predictions = {\n",
        "    \"CNN\": cnn_pred,\n",
        "    \"VGG16\": vgg_pred,\n",
        "    \"Random Forest\": rf_pred\n",
        "}\n",
        "\n",
        "confidences = {\n",
        "    \"CNN\": cnn_probs[cnn_pred],\n",
        "    \"VGG16\": vgg_probs[vgg_pred],\n",
        "    \"Random Forest\": rf_probs[rf_pred]\n",
        "}\n",
        "\n",
        "# ✅ STEP 7A: Define F1-scores from model evaluation (replace with actual values)\n",
        "model_f1_scores = {\n",
        "    \"CNN\": 0.89,          # Replace with actual F1\n",
        "    \"VGG16\": 0.93,        # Replace with actual F1\n",
        "    \"Random Forest\": 0.87 # Replace with actual F1\n",
        "}\n",
        "\n",
        "# STEP 8: Decision Logic\n",
        "from collections import Counter\n",
        "vote_counts = Counter(predictions.values())\n",
        "most_common = vote_counts.most_common(1)[0]  # (class_index, count)\n",
        "\n",
        "if most_common[1] >= 2:\n",
        "    final_pred = most_common[0]\n",
        "    print(f\"\\n✅ Final Tumor Prediction (by majority voting): {label_map[final_pred]}\")\n",
        "else:\n",
        "    # Fallback to model with highest F1-score\n",
        "    best_model = max(model_f1_scores, key=model_f1_scores.get)\n",
        "    final_pred = predictions[best_model]\n",
        "    print(f\"\\n⚠️ No majority agreement. Falling back to best model by F1-score: {best_model}\")\n",
        "    print(f\"✅ Final Tumor Prediction: {label_map[final_pred]}\")\n"
      ],
      "metadata": {
        "id": "IOi4kF5hZF3p",
        "colab": {
          "base_uri": "https://localhost:8080/",
          "height": 318
        },
        "outputId": "865e3148-60f5-42af-b78c-16e8a578e96b"
      },
      "execution_count": 20,
      "outputs": [
        {
          "output_type": "stream",
          "name": "stderr",
          "text": [
            "WARNING:absl:Compiled the loaded model, but the compiled metrics have yet to be built. `model.compile_metrics` will be empty until you train or evaluate the model.\n",
            "WARNING:absl:Compiled the loaded model, but the compiled metrics have yet to be built. `model.compile_metrics` will be empty until you train or evaluate the model.\n"
          ]
        },
        {
          "output_type": "display_data",
          "data": {
            "text/plain": [
              "<IPython.core.display.HTML object>"
            ],
            "text/html": [
              "\n",
              "     <input type=\"file\" id=\"files-4edceaef-64c9-448b-9129-0dd1d2a92435\" name=\"files[]\" multiple disabled\n",
              "        style=\"border:none\" />\n",
              "     <output id=\"result-4edceaef-64c9-448b-9129-0dd1d2a92435\">\n",
              "      Upload widget is only available when the cell has been executed in the\n",
              "      current browser session. Please rerun this cell to enable.\n",
              "      </output>\n",
              "      <script>// Copyright 2017 Google LLC\n",
              "//\n",
              "// Licensed under the Apache License, Version 2.0 (the \"License\");\n",
              "// you may not use this file except in compliance with the License.\n",
              "// You may obtain a copy of the License at\n",
              "//\n",
              "//      http://www.apache.org/licenses/LICENSE-2.0\n",
              "//\n",
              "// Unless required by applicable law or agreed to in writing, software\n",
              "// distributed under the License is distributed on an \"AS IS\" BASIS,\n",
              "// WITHOUT WARRANTIES OR CONDITIONS OF ANY KIND, either express or implied.\n",
              "// See the License for the specific language governing permissions and\n",
              "// limitations under the License.\n",
              "\n",
              "/**\n",
              " * @fileoverview Helpers for google.colab Python module.\n",
              " */\n",
              "(function(scope) {\n",
              "function span(text, styleAttributes = {}) {\n",
              "  const element = document.createElement('span');\n",
              "  element.textContent = text;\n",
              "  for (const key of Object.keys(styleAttributes)) {\n",
              "    element.style[key] = styleAttributes[key];\n",
              "  }\n",
              "  return element;\n",
              "}\n",
              "\n",
              "// Max number of bytes which will be uploaded at a time.\n",
              "const MAX_PAYLOAD_SIZE = 100 * 1024;\n",
              "\n",
              "function _uploadFiles(inputId, outputId) {\n",
              "  const steps = uploadFilesStep(inputId, outputId);\n",
              "  const outputElement = document.getElementById(outputId);\n",
              "  // Cache steps on the outputElement to make it available for the next call\n",
              "  // to uploadFilesContinue from Python.\n",
              "  outputElement.steps = steps;\n",
              "\n",
              "  return _uploadFilesContinue(outputId);\n",
              "}\n",
              "\n",
              "// This is roughly an async generator (not supported in the browser yet),\n",
              "// where there are multiple asynchronous steps and the Python side is going\n",
              "// to poll for completion of each step.\n",
              "// This uses a Promise to block the python side on completion of each step,\n",
              "// then passes the result of the previous step as the input to the next step.\n",
              "function _uploadFilesContinue(outputId) {\n",
              "  const outputElement = document.getElementById(outputId);\n",
              "  const steps = outputElement.steps;\n",
              "\n",
              "  const next = steps.next(outputElement.lastPromiseValue);\n",
              "  return Promise.resolve(next.value.promise).then((value) => {\n",
              "    // Cache the last promise value to make it available to the next\n",
              "    // step of the generator.\n",
              "    outputElement.lastPromiseValue = value;\n",
              "    return next.value.response;\n",
              "  });\n",
              "}\n",
              "\n",
              "/**\n",
              " * Generator function which is called between each async step of the upload\n",
              " * process.\n",
              " * @param {string} inputId Element ID of the input file picker element.\n",
              " * @param {string} outputId Element ID of the output display.\n",
              " * @return {!Iterable<!Object>} Iterable of next steps.\n",
              " */\n",
              "function* uploadFilesStep(inputId, outputId) {\n",
              "  const inputElement = document.getElementById(inputId);\n",
              "  inputElement.disabled = false;\n",
              "\n",
              "  const outputElement = document.getElementById(outputId);\n",
              "  outputElement.innerHTML = '';\n",
              "\n",
              "  const pickedPromise = new Promise((resolve) => {\n",
              "    inputElement.addEventListener('change', (e) => {\n",
              "      resolve(e.target.files);\n",
              "    });\n",
              "  });\n",
              "\n",
              "  const cancel = document.createElement('button');\n",
              "  inputElement.parentElement.appendChild(cancel);\n",
              "  cancel.textContent = 'Cancel upload';\n",
              "  const cancelPromise = new Promise((resolve) => {\n",
              "    cancel.onclick = () => {\n",
              "      resolve(null);\n",
              "    };\n",
              "  });\n",
              "\n",
              "  // Wait for the user to pick the files.\n",
              "  const files = yield {\n",
              "    promise: Promise.race([pickedPromise, cancelPromise]),\n",
              "    response: {\n",
              "      action: 'starting',\n",
              "    }\n",
              "  };\n",
              "\n",
              "  cancel.remove();\n",
              "\n",
              "  // Disable the input element since further picks are not allowed.\n",
              "  inputElement.disabled = true;\n",
              "\n",
              "  if (!files) {\n",
              "    return {\n",
              "      response: {\n",
              "        action: 'complete',\n",
              "      }\n",
              "    };\n",
              "  }\n",
              "\n",
              "  for (const file of files) {\n",
              "    const li = document.createElement('li');\n",
              "    li.append(span(file.name, {fontWeight: 'bold'}));\n",
              "    li.append(span(\n",
              "        `(${file.type || 'n/a'}) - ${file.size} bytes, ` +\n",
              "        `last modified: ${\n",
              "            file.lastModifiedDate ? file.lastModifiedDate.toLocaleDateString() :\n",
              "                                    'n/a'} - `));\n",
              "    const percent = span('0% done');\n",
              "    li.appendChild(percent);\n",
              "\n",
              "    outputElement.appendChild(li);\n",
              "\n",
              "    const fileDataPromise = new Promise((resolve) => {\n",
              "      const reader = new FileReader();\n",
              "      reader.onload = (e) => {\n",
              "        resolve(e.target.result);\n",
              "      };\n",
              "      reader.readAsArrayBuffer(file);\n",
              "    });\n",
              "    // Wait for the data to be ready.\n",
              "    let fileData = yield {\n",
              "      promise: fileDataPromise,\n",
              "      response: {\n",
              "        action: 'continue',\n",
              "      }\n",
              "    };\n",
              "\n",
              "    // Use a chunked sending to avoid message size limits. See b/62115660.\n",
              "    let position = 0;\n",
              "    do {\n",
              "      const length = Math.min(fileData.byteLength - position, MAX_PAYLOAD_SIZE);\n",
              "      const chunk = new Uint8Array(fileData, position, length);\n",
              "      position += length;\n",
              "\n",
              "      const base64 = btoa(String.fromCharCode.apply(null, chunk));\n",
              "      yield {\n",
              "        response: {\n",
              "          action: 'append',\n",
              "          file: file.name,\n",
              "          data: base64,\n",
              "        },\n",
              "      };\n",
              "\n",
              "      let percentDone = fileData.byteLength === 0 ?\n",
              "          100 :\n",
              "          Math.round((position / fileData.byteLength) * 100);\n",
              "      percent.textContent = `${percentDone}% done`;\n",
              "\n",
              "    } while (position < fileData.byteLength);\n",
              "  }\n",
              "\n",
              "  // All done.\n",
              "  yield {\n",
              "    response: {\n",
              "      action: 'complete',\n",
              "    }\n",
              "  };\n",
              "}\n",
              "\n",
              "scope.google = scope.google || {};\n",
              "scope.google.colab = scope.google.colab || {};\n",
              "scope.google.colab._files = {\n",
              "  _uploadFiles,\n",
              "  _uploadFilesContinue,\n",
              "};\n",
              "})(self);\n",
              "</script> "
            ]
          },
          "metadata": {}
        },
        {
          "output_type": "stream",
          "name": "stdout",
          "text": [
            "Saving Screenshot 2025-06-12 220235.png to Screenshot 2025-06-12 220235.png\n"
          ]
        },
        {
          "output_type": "stream",
          "name": "stderr",
          "text": [
            "WARNING:tensorflow:5 out of the last 23 calls to <function TensorFlowTrainer.make_predict_function.<locals>.one_step_on_data_distributed at 0x79733deafd80> triggered tf.function retracing. Tracing is expensive and the excessive number of tracings could be due to (1) creating @tf.function repeatedly in a loop, (2) passing tensors with different shapes, (3) passing Python objects instead of tensors. For (1), please define your @tf.function outside of the loop. For (2), @tf.function has reduce_retracing=True option that can avoid unnecessary retracing. For (3), please refer to https://www.tensorflow.org/guide/function#controlling_retracing and https://www.tensorflow.org/api_docs/python/tf/function for  more details.\n"
          ]
        },
        {
          "output_type": "stream",
          "name": "stdout",
          "text": [
            "\u001b[1m1/1\u001b[0m \u001b[32m━━━━━━━━━━━━━━━━━━━━\u001b[0m\u001b[37m\u001b[0m \u001b[1m0s\u001b[0m 210ms/step\n"
          ]
        },
        {
          "output_type": "stream",
          "name": "stderr",
          "text": [
            "WARNING:tensorflow:6 out of the last 24 calls to <function TensorFlowTrainer.make_predict_function.<locals>.one_step_on_data_distributed at 0x79733deafe20> triggered tf.function retracing. Tracing is expensive and the excessive number of tracings could be due to (1) creating @tf.function repeatedly in a loop, (2) passing tensors with different shapes, (3) passing Python objects instead of tensors. For (1), please define your @tf.function outside of the loop. For (2), @tf.function has reduce_retracing=True option that can avoid unnecessary retracing. For (3), please refer to https://www.tensorflow.org/guide/function#controlling_retracing and https://www.tensorflow.org/api_docs/python/tf/function for  more details.\n"
          ]
        },
        {
          "output_type": "stream",
          "name": "stdout",
          "text": [
            "\u001b[1m1/1\u001b[0m \u001b[32m━━━━━━━━━━━━━━━━━━━━\u001b[0m\u001b[37m\u001b[0m \u001b[1m0s\u001b[0m 407ms/step\n",
            "\n",
            "--- Model Predictions ---\n",
            "CNN Prediction       : pituitary (Confidence: 1.00)\n",
            "VGG16 Prediction     : pituitary (Confidence: 1.00)\n",
            "Random Forest (PCA)  : pituitary (Confidence: 0.80)\n",
            "\n",
            "✅ Final Tumor Prediction (by majority voting): pituitary\n"
          ]
        }
      ]
    },
    {
      "cell_type": "code",
      "source": [
        "!pip install streamlit\n",
        "!pip install --upgrade streamlit"
      ],
      "metadata": {
        "colab": {
          "base_uri": "https://localhost:8080/"
        },
        "id": "2iu3tfmnZFnX",
        "outputId": "771727e6-6340-4a6e-e83e-218aed7cab1f"
      },
      "execution_count": 33,
      "outputs": [
        {
          "output_type": "stream",
          "name": "stdout",
          "text": [
            "Requirement already satisfied: streamlit in /usr/local/lib/python3.11/dist-packages (1.46.0)\n",
            "Requirement already satisfied: altair<6,>=4.0 in /usr/local/lib/python3.11/dist-packages (from streamlit) (5.5.0)\n",
            "Requirement already satisfied: blinker<2,>=1.5.0 in /usr/local/lib/python3.11/dist-packages (from streamlit) (1.9.0)\n",
            "Requirement already satisfied: cachetools<7,>=4.0 in /usr/local/lib/python3.11/dist-packages (from streamlit) (5.5.2)\n",
            "Requirement already satisfied: click<9,>=7.0 in /usr/local/lib/python3.11/dist-packages (from streamlit) (8.2.1)\n",
            "Requirement already satisfied: numpy<3,>=1.23 in /usr/local/lib/python3.11/dist-packages (from streamlit) (2.0.2)\n",
            "Requirement already satisfied: packaging<26,>=20 in /usr/local/lib/python3.11/dist-packages (from streamlit) (24.2)\n",
            "Requirement already satisfied: pandas<3,>=1.4.0 in /usr/local/lib/python3.11/dist-packages (from streamlit) (2.2.2)\n",
            "Requirement already satisfied: pillow<12,>=7.1.0 in /usr/local/lib/python3.11/dist-packages (from streamlit) (11.2.1)\n",
            "Requirement already satisfied: protobuf<7,>=3.20 in /usr/local/lib/python3.11/dist-packages (from streamlit) (5.29.5)\n",
            "Requirement already satisfied: pyarrow>=7.0 in /usr/local/lib/python3.11/dist-packages (from streamlit) (18.1.0)\n",
            "Requirement already satisfied: requests<3,>=2.27 in /usr/local/lib/python3.11/dist-packages (from streamlit) (2.32.3)\n",
            "Requirement already satisfied: tenacity<10,>=8.1.0 in /usr/local/lib/python3.11/dist-packages (from streamlit) (9.1.2)\n",
            "Requirement already satisfied: toml<2,>=0.10.1 in /usr/local/lib/python3.11/dist-packages (from streamlit) (0.10.2)\n",
            "Requirement already satisfied: typing-extensions<5,>=4.4.0 in /usr/local/lib/python3.11/dist-packages (from streamlit) (4.14.0)\n",
            "Requirement already satisfied: watchdog<7,>=2.1.5 in /usr/local/lib/python3.11/dist-packages (from streamlit) (6.0.0)\n",
            "Requirement already satisfied: gitpython!=3.1.19,<4,>=3.0.7 in /usr/local/lib/python3.11/dist-packages (from streamlit) (3.1.44)\n",
            "Requirement already satisfied: pydeck<1,>=0.8.0b4 in /usr/local/lib/python3.11/dist-packages (from streamlit) (0.9.1)\n",
            "Requirement already satisfied: tornado!=6.5.0,<7,>=6.0.3 in /usr/local/lib/python3.11/dist-packages (from streamlit) (6.4.2)\n",
            "Requirement already satisfied: jinja2 in /usr/local/lib/python3.11/dist-packages (from altair<6,>=4.0->streamlit) (3.1.6)\n",
            "Requirement already satisfied: jsonschema>=3.0 in /usr/local/lib/python3.11/dist-packages (from altair<6,>=4.0->streamlit) (4.24.0)\n",
            "Requirement already satisfied: narwhals>=1.14.2 in /usr/local/lib/python3.11/dist-packages (from altair<6,>=4.0->streamlit) (1.43.0)\n",
            "Requirement already satisfied: gitdb<5,>=4.0.1 in /usr/local/lib/python3.11/dist-packages (from gitpython!=3.1.19,<4,>=3.0.7->streamlit) (4.0.12)\n",
            "Requirement already satisfied: python-dateutil>=2.8.2 in /usr/local/lib/python3.11/dist-packages (from pandas<3,>=1.4.0->streamlit) (2.9.0.post0)\n",
            "Requirement already satisfied: pytz>=2020.1 in /usr/local/lib/python3.11/dist-packages (from pandas<3,>=1.4.0->streamlit) (2025.2)\n",
            "Requirement already satisfied: tzdata>=2022.7 in /usr/local/lib/python3.11/dist-packages (from pandas<3,>=1.4.0->streamlit) (2025.2)\n",
            "Requirement already satisfied: charset-normalizer<4,>=2 in /usr/local/lib/python3.11/dist-packages (from requests<3,>=2.27->streamlit) (3.4.2)\n",
            "Requirement already satisfied: idna<4,>=2.5 in /usr/local/lib/python3.11/dist-packages (from requests<3,>=2.27->streamlit) (3.10)\n",
            "Requirement already satisfied: urllib3<3,>=1.21.1 in /usr/local/lib/python3.11/dist-packages (from requests<3,>=2.27->streamlit) (2.4.0)\n",
            "Requirement already satisfied: certifi>=2017.4.17 in /usr/local/lib/python3.11/dist-packages (from requests<3,>=2.27->streamlit) (2025.6.15)\n",
            "Requirement already satisfied: smmap<6,>=3.0.1 in /usr/local/lib/python3.11/dist-packages (from gitdb<5,>=4.0.1->gitpython!=3.1.19,<4,>=3.0.7->streamlit) (5.0.2)\n",
            "Requirement already satisfied: MarkupSafe>=2.0 in /usr/local/lib/python3.11/dist-packages (from jinja2->altair<6,>=4.0->streamlit) (3.0.2)\n",
            "Requirement already satisfied: attrs>=22.2.0 in /usr/local/lib/python3.11/dist-packages (from jsonschema>=3.0->altair<6,>=4.0->streamlit) (25.3.0)\n",
            "Requirement already satisfied: jsonschema-specifications>=2023.03.6 in /usr/local/lib/python3.11/dist-packages (from jsonschema>=3.0->altair<6,>=4.0->streamlit) (2025.4.1)\n",
            "Requirement already satisfied: referencing>=0.28.4 in /usr/local/lib/python3.11/dist-packages (from jsonschema>=3.0->altair<6,>=4.0->streamlit) (0.36.2)\n",
            "Requirement already satisfied: rpds-py>=0.7.1 in /usr/local/lib/python3.11/dist-packages (from jsonschema>=3.0->altair<6,>=4.0->streamlit) (0.25.1)\n",
            "Requirement already satisfied: six>=1.5 in /usr/local/lib/python3.11/dist-packages (from python-dateutil>=2.8.2->pandas<3,>=1.4.0->streamlit) (1.17.0)\n",
            "Requirement already satisfied: streamlit in /usr/local/lib/python3.11/dist-packages (1.46.0)\n",
            "Requirement already satisfied: altair<6,>=4.0 in /usr/local/lib/python3.11/dist-packages (from streamlit) (5.5.0)\n",
            "Requirement already satisfied: blinker<2,>=1.5.0 in /usr/local/lib/python3.11/dist-packages (from streamlit) (1.9.0)\n",
            "Requirement already satisfied: cachetools<7,>=4.0 in /usr/local/lib/python3.11/dist-packages (from streamlit) (5.5.2)\n",
            "Requirement already satisfied: click<9,>=7.0 in /usr/local/lib/python3.11/dist-packages (from streamlit) (8.2.1)\n",
            "Requirement already satisfied: numpy<3,>=1.23 in /usr/local/lib/python3.11/dist-packages (from streamlit) (2.0.2)\n",
            "Requirement already satisfied: packaging<26,>=20 in /usr/local/lib/python3.11/dist-packages (from streamlit) (24.2)\n",
            "Requirement already satisfied: pandas<3,>=1.4.0 in /usr/local/lib/python3.11/dist-packages (from streamlit) (2.2.2)\n",
            "Requirement already satisfied: pillow<12,>=7.1.0 in /usr/local/lib/python3.11/dist-packages (from streamlit) (11.2.1)\n",
            "Requirement already satisfied: protobuf<7,>=3.20 in /usr/local/lib/python3.11/dist-packages (from streamlit) (5.29.5)\n",
            "Requirement already satisfied: pyarrow>=7.0 in /usr/local/lib/python3.11/dist-packages (from streamlit) (18.1.0)\n",
            "Requirement already satisfied: requests<3,>=2.27 in /usr/local/lib/python3.11/dist-packages (from streamlit) (2.32.3)\n",
            "Requirement already satisfied: tenacity<10,>=8.1.0 in /usr/local/lib/python3.11/dist-packages (from streamlit) (9.1.2)\n",
            "Requirement already satisfied: toml<2,>=0.10.1 in /usr/local/lib/python3.11/dist-packages (from streamlit) (0.10.2)\n",
            "Requirement already satisfied: typing-extensions<5,>=4.4.0 in /usr/local/lib/python3.11/dist-packages (from streamlit) (4.14.0)\n",
            "Requirement already satisfied: watchdog<7,>=2.1.5 in /usr/local/lib/python3.11/dist-packages (from streamlit) (6.0.0)\n",
            "Requirement already satisfied: gitpython!=3.1.19,<4,>=3.0.7 in /usr/local/lib/python3.11/dist-packages (from streamlit) (3.1.44)\n",
            "Requirement already satisfied: pydeck<1,>=0.8.0b4 in /usr/local/lib/python3.11/dist-packages (from streamlit) (0.9.1)\n",
            "Requirement already satisfied: tornado!=6.5.0,<7,>=6.0.3 in /usr/local/lib/python3.11/dist-packages (from streamlit) (6.4.2)\n",
            "Requirement already satisfied: jinja2 in /usr/local/lib/python3.11/dist-packages (from altair<6,>=4.0->streamlit) (3.1.6)\n",
            "Requirement already satisfied: jsonschema>=3.0 in /usr/local/lib/python3.11/dist-packages (from altair<6,>=4.0->streamlit) (4.24.0)\n",
            "Requirement already satisfied: narwhals>=1.14.2 in /usr/local/lib/python3.11/dist-packages (from altair<6,>=4.0->streamlit) (1.43.0)\n",
            "Requirement already satisfied: gitdb<5,>=4.0.1 in /usr/local/lib/python3.11/dist-packages (from gitpython!=3.1.19,<4,>=3.0.7->streamlit) (4.0.12)\n",
            "Requirement already satisfied: python-dateutil>=2.8.2 in /usr/local/lib/python3.11/dist-packages (from pandas<3,>=1.4.0->streamlit) (2.9.0.post0)\n",
            "Requirement already satisfied: pytz>=2020.1 in /usr/local/lib/python3.11/dist-packages (from pandas<3,>=1.4.0->streamlit) (2025.2)\n",
            "Requirement already satisfied: tzdata>=2022.7 in /usr/local/lib/python3.11/dist-packages (from pandas<3,>=1.4.0->streamlit) (2025.2)\n",
            "Requirement already satisfied: charset-normalizer<4,>=2 in /usr/local/lib/python3.11/dist-packages (from requests<3,>=2.27->streamlit) (3.4.2)\n",
            "Requirement already satisfied: idna<4,>=2.5 in /usr/local/lib/python3.11/dist-packages (from requests<3,>=2.27->streamlit) (3.10)\n",
            "Requirement already satisfied: urllib3<3,>=1.21.1 in /usr/local/lib/python3.11/dist-packages (from requests<3,>=2.27->streamlit) (2.4.0)\n",
            "Requirement already satisfied: certifi>=2017.4.17 in /usr/local/lib/python3.11/dist-packages (from requests<3,>=2.27->streamlit) (2025.6.15)\n",
            "Requirement already satisfied: smmap<6,>=3.0.1 in /usr/local/lib/python3.11/dist-packages (from gitdb<5,>=4.0.1->gitpython!=3.1.19,<4,>=3.0.7->streamlit) (5.0.2)\n",
            "Requirement already satisfied: MarkupSafe>=2.0 in /usr/local/lib/python3.11/dist-packages (from jinja2->altair<6,>=4.0->streamlit) (3.0.2)\n",
            "Requirement already satisfied: attrs>=22.2.0 in /usr/local/lib/python3.11/dist-packages (from jsonschema>=3.0->altair<6,>=4.0->streamlit) (25.3.0)\n",
            "Requirement already satisfied: jsonschema-specifications>=2023.03.6 in /usr/local/lib/python3.11/dist-packages (from jsonschema>=3.0->altair<6,>=4.0->streamlit) (2025.4.1)\n",
            "Requirement already satisfied: referencing>=0.28.4 in /usr/local/lib/python3.11/dist-packages (from jsonschema>=3.0->altair<6,>=4.0->streamlit) (0.36.2)\n",
            "Requirement already satisfied: rpds-py>=0.7.1 in /usr/local/lib/python3.11/dist-packages (from jsonschema>=3.0->altair<6,>=4.0->streamlit) (0.25.1)\n",
            "Requirement already satisfied: six>=1.5 in /usr/local/lib/python3.11/dist-packages (from python-dateutil>=2.8.2->pandas<3,>=1.4.0->streamlit) (1.17.0)\n"
          ]
        }
      ]
    },
    {
      "cell_type": "code",
      "source": [
        "import streamlit as st\n",
        "import numpy as np\n",
        "import cv2\n",
        "import joblib\n",
        "from PIL import Image\n",
        "from tensorflow.keras.models import load_model\n",
        "from tensorflow.keras.preprocessing.image import img_to_array\n",
        "from tensorflow.keras.applications.vgg16 import preprocess_input as vgg_preprocess\n",
        "from collections import Counter\n",
        "\n",
        "# Load models\n",
        "cnn_model = load_model('best_cnn_model.h5')\n",
        "vgg_model = load_model('best_vgg_model.h5')\n",
        "rf_model = joblib.load('best_rf_model.pkl')\n",
        "pca = joblib.load('pca_model.pkl')\n",
        "\n",
        "label_map = {0: 'glioma', 1: 'meningioma', 2: 'pituitary'}\n",
        "model_f1_scores = {\n",
        "    \"CNN\": 0.89,\n",
        "    \"VGG16\": 0.93,\n",
        "    \"Random Forest\": 0.87\n",
        "}\n",
        "\n",
        "# Preprocessing functions\n",
        "def preprocess_for_cnn(image):\n",
        "    image = np.array(image)\n",
        "    image = cv2.resize(image, (128, 128))\n",
        "    image = image.astype(\"float32\") / 255.0\n",
        "    image = np.expand_dims(image, axis=0)\n",
        "    return image\n",
        "\n",
        "def preprocess_for_vgg(image):\n",
        "    image = image.resize((128, 128))\n",
        "    image = img_to_array(image)\n",
        "    image = vgg_preprocess(image)\n",
        "    return np.expand_dims(image, axis=0)\n",
        "\n",
        "def preprocess_for_rf(image):\n",
        "    image = image.resize((128, 128))\n",
        "    image = img_to_array(image) / 255.0\n",
        "    image = image.reshape(1, -1)\n",
        "    return pca.transform(image)\n",
        "\n",
        "# Prediction logic\n",
        "def predict_tumor(image):\n",
        "    cnn_input = preprocess_for_cnn(image)\n",
        "    vgg_input = preprocess_for_vgg(image)\n",
        "    rf_input = preprocess_for_rf(image)\n",
        "\n",
        "    cnn_probs = cnn_model.predict(cnn_input)[0]\n",
        "    vgg_probs = vgg_model.predict(vgg_input)[0]\n",
        "    rf_probs = rf_model.predict_proba(rf_input)[0]\n",
        "\n",
        "    cnn_pred = np.argmax(cnn_probs)\n",
        "    vgg_pred = np.argmax(vgg_probs)\n",
        "    rf_pred = rf_model.predict(rf_input)[0]\n",
        "\n",
        "    predictions = {\n",
        "        \"CNN\": cnn_pred,\n",
        "        \"VGG16\": vgg_pred,\n",
        "        \"Random Forest\": rf_pred\n",
        "    }\n",
        "\n",
        "    confidences = {\n",
        "        \"CNN\": cnn_probs[cnn_pred],\n",
        "        \"VGG16\": vgg_probs[vgg_pred],\n",
        "        \"Random Forest\": rf_probs[rf_pred]\n",
        "    }\n",
        "\n",
        "    vote_counts = Counter(predictions.values())\n",
        "    most_common = vote_counts.most_common(1)[0]\n",
        "\n",
        "    if most_common[1] >= 2:\n",
        "        final_pred = most_common[0]\n",
        "        decision = \"Majority Voting\"\n",
        "    else:\n",
        "        best_model = max(model_f1_scores, key=model_f1_scores.get)\n",
        "        final_pred = predictions[best_model]\n",
        "        decision = f\"Fallback to {best_model} (Highest F1-Score)\"\n",
        "\n",
        "    return {\n",
        "        \"final_prediction\": label_map[final_pred],\n",
        "        \"decision_strategy\": decision,\n",
        "        \"details\": {\n",
        "            \"CNN\": (label_map[cnn_pred], cnn_probs[cnn_pred]),\n",
        "            \"VGG16\": (label_map[vgg_pred], vgg_probs[vgg_pred]),\n",
        "            \"Random Forest\": (label_map[rf_pred], rf_probs[rf_pred])\n",
        "        }\n",
        "    }\n",
        "\n",
        "# Streamlit UI\n",
        "st.set_page_config(page_title=\"Brain Tumor Classifier\", layout=\"centered\")\n",
        "st.title(\"🧠 Brain Tumor Detection & Classification\")\n",
        "st.markdown(\"Upload a brain MRI image to classify it as **Glioma**, **Meningioma**, or **Pituitary Tumor** using an ensemble of models.\")\n",
        "\n",
        "uploaded_file = st.file_uploader(\"Upload an MRI image\", type=[\"jpg\", \"jpeg\", \"png\"])\n",
        "\n",
        "if uploaded_file:\n",
        "    image = Image.open(uploaded_file).convert('RGB')\n",
        "    st.image(image, caption=\"Uploaded MRI Image\", use_column_width=True)\n",
        "\n",
        "    if st.button(\"Predict Tumor Type\"):\n",
        "        with st.spinner(\"Analyzing image...\"):\n",
        "            results = predict_tumor(image)\n",
        "            st.success(f\"🎯 Final Prediction: **{results['final_prediction'].upper()}**\")\n",
        "            st.write(f\"🔍 Decision Strategy: {results['decision_strategy']}\")\n",
        "\n",
        "            st.subheader(\"📊 Individual Model Predictions\")\n",
        "            for model, (label, conf) in results[\"details\"].items():\n",
        "                st.write(f\"**{model}** ➝ {label} (Confidence: {conf:.2f})\")\n"
      ],
      "metadata": {
        "colab": {
          "base_uri": "https://localhost:8080/"
        },
        "id": "6IWtwnwIRd5L",
        "outputId": "cd289fdc-18cd-429c-87e2-695a2fedf1c5"
      },
      "execution_count": 34,
      "outputs": [
        {
          "output_type": "stream",
          "name": "stderr",
          "text": [
            "WARNING:absl:Compiled the loaded model, but the compiled metrics have yet to be built. `model.compile_metrics` will be empty until you train or evaluate the model.\n",
            "WARNING:absl:Compiled the loaded model, but the compiled metrics have yet to be built. `model.compile_metrics` will be empty until you train or evaluate the model.\n",
            "2025-06-22 12:20:36.147 WARNING streamlit.runtime.scriptrunner_utils.script_run_context: Thread 'MainThread': missing ScriptRunContext! This warning can be ignored when running in bare mode.\n",
            "2025-06-22 12:20:36.148 WARNING streamlit.runtime.scriptrunner_utils.script_run_context: Thread 'MainThread': missing ScriptRunContext! This warning can be ignored when running in bare mode.\n",
            "2025-06-22 12:20:36.350 \n",
            "  \u001b[33m\u001b[1mWarning:\u001b[0m to view this Streamlit app on a browser, run it with the following\n",
            "  command:\n",
            "\n",
            "    streamlit run /usr/local/lib/python3.11/dist-packages/colab_kernel_launcher.py [ARGUMENTS]\n",
            "2025-06-22 12:20:36.351 Thread 'MainThread': missing ScriptRunContext! This warning can be ignored when running in bare mode.\n",
            "2025-06-22 12:20:36.352 Thread 'MainThread': missing ScriptRunContext! This warning can be ignored when running in bare mode.\n",
            "2025-06-22 12:20:36.353 Thread 'MainThread': missing ScriptRunContext! This warning can be ignored when running in bare mode.\n",
            "2025-06-22 12:20:36.354 Thread 'MainThread': missing ScriptRunContext! This warning can be ignored when running in bare mode.\n",
            "2025-06-22 12:20:36.355 Thread 'MainThread': missing ScriptRunContext! This warning can be ignored when running in bare mode.\n",
            "2025-06-22 12:20:36.357 Thread 'MainThread': missing ScriptRunContext! This warning can be ignored when running in bare mode.\n",
            "2025-06-22 12:20:36.358 Thread 'MainThread': missing ScriptRunContext! This warning can be ignored when running in bare mode.\n",
            "2025-06-22 12:20:36.359 Thread 'MainThread': missing ScriptRunContext! This warning can be ignored when running in bare mode.\n",
            "2025-06-22 12:20:36.360 Thread 'MainThread': missing ScriptRunContext! This warning can be ignored when running in bare mode.\n",
            "2025-06-22 12:20:36.361 Thread 'MainThread': missing ScriptRunContext! This warning can be ignored when running in bare mode.\n",
            "2025-06-22 12:20:36.362 Thread 'MainThread': missing ScriptRunContext! This warning can be ignored when running in bare mode.\n"
          ]
        }
      ]
    },
    {
      "cell_type": "code",
      "source": [
        "# 1. Install streamlit and pyngrok\n",
        "!pip install streamlit pyngrok --quiet\n",
        "\n",
        "# 2. Write your Streamlit app to a file manually\n",
        "with open(\"app.py\", \"w\") as f:\n",
        "    f.write(\"\"\"\n",
        "import streamlit as st\n",
        "import numpy as np\n",
        "import cv2\n",
        "import joblib\n",
        "from PIL import Image\n",
        "from tensorflow.keras.models import load_model\n",
        "from tensorflow.keras.preprocessing.image import img_to_array\n",
        "from tensorflow.keras.applications.vgg16 import preprocess_input as vgg_preprocess\n",
        "from collections import Counter\n",
        "\n",
        "# Load models\n",
        "cnn_model = load_model('best_cnn_model.h5')\n",
        "vgg_model = load_model('best_vgg_model.h5')\n",
        "rf_model = joblib.load('best_rf_model.pkl')\n",
        "pca = joblib.load('pca_model.pkl')\n",
        "\n",
        "label_map = {0: 'glioma', 1: 'meningioma', 2: 'pituitary'}\n",
        "model_f1_scores = {\n",
        "    \"CNN\": 0.89,\n",
        "    \"VGG16\": 0.93,\n",
        "    \"Random Forest\": 0.87\n",
        "}\n",
        "\n",
        "# Preprocessing functions\n",
        "def preprocess_for_cnn(image):\n",
        "    image = np.array(image)\n",
        "    image = cv2.resize(image, (128, 128))\n",
        "    image = image.astype(\"float32\") / 255.0\n",
        "    image = np.expand_dims(image, axis=0)\n",
        "    return image\n",
        "\n",
        "def preprocess_for_vgg(image):\n",
        "    image = image.resize((128, 128))\n",
        "    image = img_to_array(image)\n",
        "    image = vgg_preprocess(image)\n",
        "    return np.expand_dims(image, axis=0)\n",
        "\n",
        "def preprocess_for_rf(image):\n",
        "    image = image.resize((128, 128))\n",
        "    image = img_to_array(image) / 255.0\n",
        "    image = image.reshape(1, -1)\n",
        "    return pca.transform(image)\n",
        "\n",
        "# Prediction logic\n",
        "def predict_tumor(image):\n",
        "    cnn_input = preprocess_for_cnn(image)\n",
        "    vgg_input = preprocess_for_vgg(image)\n",
        "    rf_input = preprocess_for_rf(image)\n",
        "\n",
        "    cnn_probs = cnn_model.predict(cnn_input)[0]\n",
        "    vgg_probs = vgg_model.predict(vgg_input)[0]\n",
        "    rf_probs = rf_model.predict_proba(rf_input)[0]\n",
        "\n",
        "    cnn_pred = np.argmax(cnn_probs)\n",
        "    vgg_pred = np.argmax(vgg_probs)\n",
        "    rf_pred = rf_model.predict(rf_input)[0]\n",
        "\n",
        "    predictions = {\n",
        "        \"CNN\": cnn_pred,\n",
        "        \"VGG16\": vgg_pred,\n",
        "        \"Random Forest\": rf_pred\n",
        "    }\n",
        "\n",
        "    confidences = {\n",
        "        \"CNN\": cnn_probs[cnn_pred],\n",
        "        \"VGG16\": vgg_probs[vgg_pred],\n",
        "        \"Random Forest\": rf_probs[rf_pred]\n",
        "    }\n",
        "\n",
        "    vote_counts = Counter(predictions.values())\n",
        "    most_common = vote_counts.most_common(1)[0]\n",
        "\n",
        "    if most_common[1] >= 2:\n",
        "        final_pred = most_common[0]\n",
        "        decision = \"Majority Voting\"\n",
        "    else:\n",
        "        best_model = max(model_f1_scores, key=model_f1_scores.get)\n",
        "        final_pred = predictions[best_model]\n",
        "        decision = f\"Fallback to {best_model} (Highest F1-Score)\"\n",
        "\n",
        "    return {\n",
        "        \"final_prediction\": label_map[final_pred],\n",
        "        \"decision_strategy\": decision,\n",
        "        \"details\": {\n",
        "            \"CNN\": (label_map[cnn_pred], cnn_probs[cnn_pred]),\n",
        "            \"VGG16\": (label_map[vgg_pred], vgg_probs[vgg_pred]),\n",
        "            \"Random Forest\": (label_map[rf_pred], rf_probs[rf_pred])\n",
        "        }\n",
        "    }\n",
        "\n",
        "# Streamlit UI\n",
        "st.set_page_config(page_title=\"Brain Tumor Classifier\", layout=\"centered\")\n",
        "st.title(\"🧠 Brain Tumor Detection & Classification\")\n",
        "st.markdown(\"Upload a brain MRI image to classify it as **Glioma**, **Meningioma**, or **Pituitary Tumor** using an ensemble of models.\")\n",
        "\n",
        "uploaded_file = st.file_uploader(\"Upload an MRI image\", type=[\"jpg\", \"jpeg\", \"png\"])\n",
        "\n",
        "if uploaded_file:\n",
        "    image = Image.open(uploaded_file).convert('RGB')\n",
        "    st.image(image, caption=\"Uploaded MRI Image\", use_column_width=True)\n",
        "\n",
        "    if st.button(\"Predict Tumor Type\"):\n",
        "        with st.spinner(\"Analyzing image...\"):\n",
        "            results = predict_tumor(image)\n",
        "            st.success(f\"🎯 Final Prediction: **{results['final_prediction'].upper()}**\")\n",
        "            st.write(f\"🔍 Decision Strategy: {results['decision_strategy']}\")\n",
        "\n",
        "            st.subheader(\"📊 Individual Model Predictions\")\n",
        "            for model, (label, conf) in results[\"details\"].items():\n",
        "                st.write(f\"**{model}** ➝ {label} (Confidence: {conf:.2f})\")\n",
        "\"\"\")\n",
        "\n",
        "# 3. Start Streamlit in background\n",
        "import subprocess\n",
        "import time\n",
        "process = subprocess.Popen([\"streamlit\", \"run\", \"app.py\"])\n",
        "time.sleep(5)  # wait for server to start\n",
        "\n",
        "from pyngrok import ngrok\n",
        "ngrok.kill()  # kill any existing tunnels\n",
        "\n",
        "public_url = ngrok.connect(addr=\"8501\", proto=\"http\")\n",
        "print(\"✅ App is live at:\", public_url)\n"
      ],
      "metadata": {
        "id": "mzC9tLTvZFr_",
        "colab": {
          "base_uri": "https://localhost:8080/"
        },
        "outputId": "f9196edb-6b63-4d13-88dd-396db36033fc"
      },
      "execution_count": 59,
      "outputs": [
        {
          "output_type": "stream",
          "name": "stdout",
          "text": [
            "✅ App is live at: NgrokTunnel: \"https://9c7d-35-194-176-209.ngrok-free.app\" -> \"http://localhost:8501\"\n"
          ]
        }
      ]
    }
  ],
  "metadata": {
    "colab": {
      "toc_visible": true,
      "provenance": [],
      "authorship_tag": "ABX9TyOzbyPP9pLuisLmoq7rJv3S",
      "include_colab_link": true
    },
    "kernelspec": {
      "display_name": "Python 3",
      "name": "python3"
    },
    "language_info": {
      "name": "python"
    }
  },
  "nbformat": 4,
  "nbformat_minor": 0
}